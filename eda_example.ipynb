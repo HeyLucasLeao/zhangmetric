{
 "cells": [
  {
   "cell_type": "code",
   "execution_count": 41,
   "metadata": {},
   "outputs": [],
   "source": [
    "import pandas as pd\n",
    "from mlxtend.preprocessing import TransactionEncoder\n",
    "import scipy.sparse\n",
    "import pickle"
   ]
  },
  {
   "cell_type": "code",
   "execution_count": null,
   "metadata": {},
   "outputs": [],
   "source": [
    "\"https://www.kaggle.com/datasets/irfanasrullah/groceries\""
   ]
  },
  {
   "cell_type": "code",
   "execution_count": 18,
   "metadata": {},
   "outputs": [],
   "source": [
    "df = pd.read_csv(\"./data/groceries - groceries.csv\", delimiter=',')"
   ]
  },
  {
   "cell_type": "code",
   "execution_count": 21,
   "metadata": {},
   "outputs": [],
   "source": [
    "df = df.drop(columns=\"Item(s)\")"
   ]
  },
  {
   "cell_type": "code",
   "execution_count": 27,
   "metadata": {},
   "outputs": [],
   "source": [
    "test = df.apply(list, axis=1)"
   ]
  },
  {
   "cell_type": "code",
   "execution_count": 37,
   "metadata": {},
   "outputs": [],
   "source": [
    "list_of_products = [row.dropna().to_list() for _, row in df.iterrows()]"
   ]
  },
  {
   "cell_type": "code",
   "execution_count": 38,
   "metadata": {},
   "outputs": [],
   "source": [
    "te = TransactionEncoder()\n",
    "oht_ary = te.fit(list_of_products).transform(list_of_products, sparse=True)\n",
    "te.columns_ = [str(x) for x in te.columns_]"
   ]
  },
  {
   "cell_type": "code",
   "execution_count": 39,
   "metadata": {},
   "outputs": [
    {
     "data": {
      "text/plain": [
       "<9835x169 sparse matrix of type '<class 'numpy.bool_'>'\n",
       "\twith 43367 stored elements in Compressed Sparse Row format>"
      ]
     },
     "execution_count": 39,
     "metadata": {},
     "output_type": "execute_result"
    }
   ],
   "source": [
    "oht_ary"
   ]
  },
  {
   "cell_type": "code",
   "execution_count": 40,
   "metadata": {},
   "outputs": [
    {
     "data": {
      "text/plain": [
       "['Instant food products',\n",
       " 'UHT-milk',\n",
       " 'abrasive cleaner',\n",
       " 'artif. sweetener',\n",
       " 'baby cosmetics',\n",
       " 'baby food',\n",
       " 'bags',\n",
       " 'baking powder',\n",
       " 'bathroom cleaner',\n",
       " 'beef',\n",
       " 'berries',\n",
       " 'beverages',\n",
       " 'bottled beer',\n",
       " 'bottled water',\n",
       " 'brandy',\n",
       " 'brown bread',\n",
       " 'butter',\n",
       " 'butter milk',\n",
       " 'cake bar',\n",
       " 'candles',\n",
       " 'candy',\n",
       " 'canned beer',\n",
       " 'canned fish',\n",
       " 'canned fruit',\n",
       " 'canned vegetables',\n",
       " 'cat food',\n",
       " 'cereals',\n",
       " 'chewing gum',\n",
       " 'chicken',\n",
       " 'chocolate',\n",
       " 'chocolate marshmallow',\n",
       " 'citrus fruit',\n",
       " 'cleaner',\n",
       " 'cling film/bags',\n",
       " 'cocoa drinks',\n",
       " 'coffee',\n",
       " 'condensed milk',\n",
       " 'cooking chocolate',\n",
       " 'cookware',\n",
       " 'cream',\n",
       " 'cream cheese',\n",
       " 'curd',\n",
       " 'curd cheese',\n",
       " 'decalcifier',\n",
       " 'dental care',\n",
       " 'dessert',\n",
       " 'detergent',\n",
       " 'dish cleaner',\n",
       " 'dishes',\n",
       " 'dog food',\n",
       " 'domestic eggs',\n",
       " 'female sanitary products',\n",
       " 'finished products',\n",
       " 'fish',\n",
       " 'flour',\n",
       " 'flower (seeds)',\n",
       " 'flower soil/fertilizer',\n",
       " 'frankfurter',\n",
       " 'frozen chicken',\n",
       " 'frozen dessert',\n",
       " 'frozen fish',\n",
       " 'frozen fruits',\n",
       " 'frozen meals',\n",
       " 'frozen potato products',\n",
       " 'frozen vegetables',\n",
       " 'fruit/vegetable juice',\n",
       " 'grapes',\n",
       " 'hair spray',\n",
       " 'ham',\n",
       " 'hamburger meat',\n",
       " 'hard cheese',\n",
       " 'herbs',\n",
       " 'honey',\n",
       " 'house keeping products',\n",
       " 'hygiene articles',\n",
       " 'ice cream',\n",
       " 'instant coffee',\n",
       " 'jam',\n",
       " 'ketchup',\n",
       " 'kitchen towels',\n",
       " 'kitchen utensil',\n",
       " 'light bulbs',\n",
       " 'liqueur',\n",
       " 'liquor',\n",
       " 'liquor (appetizer)',\n",
       " 'liver loaf',\n",
       " 'long life bakery product',\n",
       " 'make up remover',\n",
       " 'male cosmetics',\n",
       " 'margarine',\n",
       " 'mayonnaise',\n",
       " 'meat',\n",
       " 'meat spreads',\n",
       " 'misc. beverages',\n",
       " 'mustard',\n",
       " 'napkins',\n",
       " 'newspapers',\n",
       " 'nut snack',\n",
       " 'nuts/prunes',\n",
       " 'oil',\n",
       " 'onions',\n",
       " 'organic products',\n",
       " 'organic sausage',\n",
       " 'other vegetables',\n",
       " 'packaged fruit/vegetables',\n",
       " 'pasta',\n",
       " 'pastry',\n",
       " 'pet care',\n",
       " 'photo/film',\n",
       " 'pickled vegetables',\n",
       " 'pip fruit',\n",
       " 'popcorn',\n",
       " 'pork',\n",
       " 'potato products',\n",
       " 'potted plants',\n",
       " 'preservation products',\n",
       " 'processed cheese',\n",
       " 'prosecco',\n",
       " 'pudding powder',\n",
       " 'ready soups',\n",
       " 'red/blush wine',\n",
       " 'rice',\n",
       " 'roll products',\n",
       " 'rolls/buns',\n",
       " 'root vegetables',\n",
       " 'rubbing alcohol',\n",
       " 'rum',\n",
       " 'salad dressing',\n",
       " 'salt',\n",
       " 'salty snack',\n",
       " 'sauces',\n",
       " 'sausage',\n",
       " 'seasonal products',\n",
       " 'semi-finished bread',\n",
       " 'shopping bags',\n",
       " 'skin care',\n",
       " 'sliced cheese',\n",
       " 'snack products',\n",
       " 'soap',\n",
       " 'soda',\n",
       " 'soft cheese',\n",
       " 'softener',\n",
       " 'sound storage medium',\n",
       " 'soups',\n",
       " 'sparkling wine',\n",
       " 'specialty bar',\n",
       " 'specialty cheese',\n",
       " 'specialty chocolate',\n",
       " 'specialty fat',\n",
       " 'specialty vegetables',\n",
       " 'spices',\n",
       " 'spread cheese',\n",
       " 'sugar',\n",
       " 'sweet spreads',\n",
       " 'syrup',\n",
       " 'tea',\n",
       " 'tidbits',\n",
       " 'toilet cleaner',\n",
       " 'tropical fruit',\n",
       " 'turkey',\n",
       " 'vinegar',\n",
       " 'waffles',\n",
       " 'whipped/sour cream',\n",
       " 'whisky',\n",
       " 'white bread',\n",
       " 'white wine',\n",
       " 'whole milk',\n",
       " 'yogurt',\n",
       " 'zwieback']"
      ]
     },
     "execution_count": 40,
     "metadata": {},
     "output_type": "execute_result"
    }
   ],
   "source": [
    "te.columns_"
   ]
  },
  {
   "cell_type": "code",
   "execution_count": 44,
   "metadata": {},
   "outputs": [],
   "source": [
    "scipy.sparse.save_npz(\"./data/oh_values\", oht_ary)\n",
    "pickle.dump(te.columns_, open(\"./data/oh_columns.pkl\", \"wb\"))"
   ]
  }
 ],
 "metadata": {
  "kernelspec": {
   "display_name": "autorizai",
   "language": "python",
   "name": "python3"
  },
  "language_info": {
   "codemirror_mode": {
    "name": "ipython",
    "version": 3
   },
   "file_extension": ".py",
   "mimetype": "text/x-python",
   "name": "python",
   "nbconvert_exporter": "python",
   "pygments_lexer": "ipython3",
   "version": "3.10.13"
  }
 },
 "nbformat": 4,
 "nbformat_minor": 2
}
